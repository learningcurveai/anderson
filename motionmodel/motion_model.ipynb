{
 "cells": [
  {
   "cell_type": "markdown",
   "metadata": {},
   "source": [
    "**Config**"
   ]
  },
  {
   "cell_type": "code",
   "execution_count": 3,
   "metadata": {},
   "outputs": [],
   "source": [
    "#\n",
    "# https://github.com/yoyo-nb/Thin-Plate-Spline-Motion-Model\n",
    "# https://github.com/AliaksandrSiarohin/monkey-net\n",
    "# https://arxiv.org/abs/1812.08861\n",
    "# https://papers.nips.cc/paper/2019/file/31c0b36aef265d9221af80872ceb62f9-Paper.pdf\n",
    "#\n",
    "# https://www.youtube.com/watch?v=XjObqq6we4U\n",
    "# https://colab.research.google.com/drive/11pf0SkMIhz-d5Lo-m7XakXrgVHhycWg6?usp=sharing#scrollTo=czsWABcK_2KE\n",
    "# https://discord.com/channels/1054529544817741927/1054529545568538756\n",
    "# https://www.d-id.com/creative-reality-studio/\n",
    "# \n",
    "# NOTE: Detour we're taking... we will use a related project to LEARN the methods quicker (Monkey-NET)\n",
    "# http://192.168.1.239:7878/notebooks/demo.ipynb\n",
    "#\n",
    "# Putting audio back into the resulting video\n",
    "# ffmpeg -an -i result.mp4 -vn -i assets/video_intro.mp4 -c:a copy -c:v copy result_with_audio.mp4\n",
    "# check: https://youtu.be/zZTOsm6Wm2w?t=270\n",
    "#\n",
    "# Changing frame rate:\n",
    "# ffmpeg -i samfridman.mov -filter:v fps=30 lexfridman.mp4"
   ]
  },
  {
   "cell_type": "code",
   "execution_count": 33,
   "metadata": {},
   "outputs": [],
   "source": [
    "import torch\n",
    "\n",
    "# edit the config\n",
    "device = torch.device('cuda:0')\n",
    "dataset_name = \"vox\" # ['vox', 'taichi', 'ted', 'mgif']\n",
    "\n",
    "source_image_path = \"./assets/anderson.png\"\n",
    "driving_video_path = \"./assets/anastasi.mp4\"\n",
    "output_video_path = \"./generated.mp4\"\n",
    "\n",
    "config_path = \"config/vox-256.yaml\"\n",
    "checkpoint_path = \"checkpoints/vox.pth.tar\"\n",
    "predict_mode = \"relative\" # ['standard', 'relative', 'avd']\n",
    "find_best_frame = False # when use the relative mode to animate a face, use 'find_best_frame=True' can get better quality result\n",
    "\n",
    "pixel = 256 # for vox, taichi and mgif, the resolution is 256*256\n",
    "if(dataset_name == \"ted\"): # for ted, the resolution is 384*384\n",
    "    pixel = 384\n"
   ]
  },
  {
   "cell_type": "markdown",
   "metadata": {},
   "source": [
    "**Read image and video**"
   ]
  },
  {
   "cell_type": "code",
   "execution_count": null,
   "metadata": {
    "colab": {
     "base_uri": "https://localhost:8080/",
     "height": 453
    },
    "id": "Oxi6-riLOgnm",
    "outputId": "d38a8850-9eb1-4de4-9bf2-24cbd847ca1f"
   },
   "outputs": [],
   "source": [
    "import imageio\n",
    "import numpy as np\n",
    "import matplotlib.pyplot as plt\n",
    "import matplotlib.animation as animation\n",
    "from skimage.transform import resize\n",
    "from IPython.display import HTML\n",
    "import warnings\n",
    "warnings.filterwarnings(\"ignore\")\n",
    "\n",
    "source_image = imageio.imread(source_image_path)\n",
    "reader = imageio.get_reader(driving_video_path)\n",
    "\n",
    "\n",
    "source_image = resize(source_image, (pixel, pixel))[..., :3]\n",
    "\n",
    "fps = reader.get_meta_data()['fps']\n",
    "\n",
    "print(\"fps: \", fps)\n",
    "\n",
    "driving_video = []\n",
    "try:\n",
    "    for im in reader:\n",
    "        driving_video.append(im)\n",
    "except RuntimeError:\n",
    "    pass\n",
    "reader.close()\n",
    "\n",
    "driving_video = [resize(frame, (pixel, pixel))[..., :3] for frame in driving_video]\n",
    "\n",
    "def display(source, driving, generated=None):\n",
    "    fig = plt.figure(figsize=(8 + 4 * (generated is not None), 6))\n",
    "\n",
    "    ims = []\n",
    "    for i in range(len(driving)):\n",
    "        cols = [source]\n",
    "        cols.append(driving[i])\n",
    "        if generated is not None:\n",
    "            cols.append(generated[i])\n",
    "        im = plt.imshow(np.concatenate(cols, axis=1), animated=True)\n",
    "        plt.axis('off')\n",
    "        ims.append([im])\n",
    "\n",
    "    ani = animation.ArtistAnimation(fig, ims, interval=50, repeat_delay=1000)\n",
    "    plt.close()\n",
    "    return ani\n",
    "    \n",
    "\n",
    "HTML(display(source_image, driving_video).to_html5_video())"
   ]
  },
  {
   "cell_type": "markdown",
   "metadata": {
    "id": "xjM7ubVfWrwT"
   },
   "source": [
    "**Create a model and load checkpoints**"
   ]
  },
  {
   "cell_type": "code",
   "execution_count": null,
   "metadata": {},
   "outputs": [],
   "source": [
    "import yaml\n",
    "import torch\n",
    "from modules.inpainting_network import InpaintingNetwork\n",
    "from modules.keypoint_detector import KPDetector\n",
    "from modules.dense_motion import DenseMotionNetwork\n",
    "from modules.avd_network import AVDNetwork\n",
    "\n",
    "with open(config_path) as f:\n",
    "    config = yaml.load(f, Loader=yaml.Loader)\n",
    "\n",
    "inpainting = InpaintingNetwork(**config['model_params']['generator_params'],\n",
    "                                    **config['model_params']['common_params'])\n",
    "kp_detector = KPDetector(**config['model_params']['common_params'])\n",
    "dense_motion_network = DenseMotionNetwork(**config['model_params']['common_params'],\n",
    "                                          **config['model_params']['dense_motion_params'])\n",
    "avd_network = AVDNetwork(num_tps=config['model_params']['common_params']['num_tps'],\n",
    "                         **config['model_params']['avd_network_params'])\n",
    "kp_detector.to(device)\n",
    "dense_motion_network.to(device)\n",
    "inpainting.to(device)\n",
    "avd_network.to(device)\n",
    "\n",
    "checkpoint = torch.load(checkpoint_path, map_location=device)\n",
    "\n",
    "inpainting.load_state_dict(checkpoint['inpainting_network'])\n",
    "kp_detector.load_state_dict(checkpoint['kp_detector'])\n",
    "dense_motion_network.load_state_dict(checkpoint['dense_motion_network'])\n",
    "if 'avd_network' in checkpoint:\n",
    "    avd_network.load_state_dict(checkpoint['avd_network'])\n",
    "\n",
    "inpainting.eval()\n",
    "kp_detector.eval()\n",
    "dense_motion_network.eval()\n",
    "avd_network.eval()"
   ]
  },
  {
   "cell_type": "markdown",
   "metadata": {
    "id": "fdFdasHEj3t7"
   },
   "source": [
    "**Perform image animation**"
   ]
  },
  {
   "cell_type": "code",
   "execution_count": null,
   "metadata": {
    "colab": {
     "base_uri": "https://localhost:8080/",
     "height": 471
    },
    "id": "SB12II11kF4c",
    "outputId": "9e2274aa-fd55-4eed-cb50-bec72fcfb8b9"
   },
   "outputs": [],
   "source": [
    "from demo import make_animation\n",
    "from skimage import img_as_ubyte\n",
    "\n",
    "if predict_mode=='relative' and find_best_frame:\n",
    "    from demo import find_best_frame as _find\n",
    "    i = _find(source_image, driving_video, device.type=='cuda')\n",
    "    print (\"Best frame: \" + str(i))\n",
    "    driving_forward = driving_video[i:]\n",
    "    driving_backward = driving_video[:(i+1)][::-1]\n",
    "    predictions_forward = make_animation(source_image, driving_forward, inpainting, kp_detector, dense_motion_network, avd_network, device = device, mode = predict_mode)\n",
    "    predictions_backward = make_animation(source_image, driving_backward, inpainting, kp_detector, dense_motion_network, avd_network, device = device, mode = predict_mode)\n",
    "    predictions = predictions_backward[::-1] + predictions_forward[1:]\n",
    "else:\n",
    "    predictions = make_animation(source_image, driving_video, inpainting, kp_detector, dense_motion_network, avd_network, device = device, mode = predict_mode)\n",
    "\n",
    "#save resulting video\n",
    "imageio.mimsave(output_video_path, [img_as_ubyte(frame) for frame in predictions], fps=fps)\n",
    "\n",
    "HTML(display(source_image, driving_video, predictions).to_html5_video())"
   ]
  },
  {
   "cell_type": "code",
   "execution_count": null,
   "metadata": {},
   "outputs": [],
   "source": [
    "!rm generated_with_audio.mp4\n",
    "!ffmpeg -an -i generated.mp4 -vn -i assets/anastasi.mp4 -c:a copy -c:v copy generated_with_audio.mp4"
   ]
  },
  {
   "cell_type": "code",
   "execution_count": null,
   "metadata": {},
   "outputs": [],
   "source": []
  }
 ],
 "metadata": {
  "accelerator": "GPU",
  "colab": {
   "include_colab_link": true,
   "name": "first-order-model-demo.ipynb",
   "provenance": [],
   "toc_visible": true
  },
  "kernelspec": {
   "display_name": "Python 3 (ipykernel)",
   "language": "python",
   "name": "python3"
  },
  "language_info": {
   "codemirror_mode": {
    "name": "ipython",
    "version": 3
   },
   "file_extension": ".py",
   "mimetype": "text/x-python",
   "name": "python",
   "nbconvert_exporter": "python",
   "pygments_lexer": "ipython3",
   "version": "3.12.10"
  }
 },
 "nbformat": 4,
 "nbformat_minor": 4
}
